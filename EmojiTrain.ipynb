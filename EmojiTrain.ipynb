{
 "cells": [
  {
   "cell_type": "code",
   "execution_count": 0,
   "metadata": {
    "colab": {},
    "colab_type": "code",
    "id": "UQzmEmWDxwIE"
   },
   "outputs": [],
   "source": [
    "import numpy as np\n",
    "import matplotlib.pyplot as plt\n",
    "%matplotlib inline\n",
    "import pandas as pd\n",
    "from keras.models import Sequential\n",
    "from keras.layers import Dense, Activation, Convolution2D, Flatten, MaxPooling2D, Dropout\n",
    "from keras.utils import np_utils\n",
    "from keras.layers.normalization import BatchNormalization\n",
    "import os\n",
    "import cv2"
   ]
  },
  {
   "cell_type": "code",
   "execution_count": 21,
   "metadata": {
    "colab": {
     "base_uri": "https://localhost:8080/",
     "height": 272
    },
    "colab_type": "code",
    "id": "GCOnmoDQyBtD",
    "outputId": "b8b1b934-6e4b-494f-c2b2-b1159a7f42ee"
   },
   "outputs": [
    {
     "data": {
      "text/plain": [
       "[name: \"/device:CPU:0\"\n",
       " device_type: \"CPU\"\n",
       " memory_limit: 268435456\n",
       " locality {\n",
       " }\n",
       " incarnation: 3302547063052147449, name: \"/device:GPU:0\"\n",
       " device_type: \"GPU\"\n",
       " memory_limit: 11281553818\n",
       " locality {\n",
       "   bus_id: 1\n",
       "   links {\n",
       "   }\n",
       " }\n",
       " incarnation: 16379858240664317054\n",
       " physical_device_desc: \"device: 0, name: Tesla K80, pci bus id: 0000:00:04.0, compute capability: 3.7\"]"
      ]
     },
     "execution_count": 21,
     "metadata": {
      "tags": []
     },
     "output_type": "execute_result"
    }
   ],
   "source": [
    "from tensorflow.python.client import device_lib\n",
    "device_lib.list_local_devices()"
   ]
  },
  {
   "cell_type": "markdown",
   "metadata": {
    "colab_type": "text",
    "id": "dp0YJKLPyRTj"
   },
   "source": [
    "Import Dataset"
   ]
  },
  {
   "cell_type": "code",
   "execution_count": 22,
   "metadata": {
    "colab": {
     "base_uri": "https://localhost:8080/",
     "height": 34
    },
    "colab_type": "code",
    "id": "2lwRUlqaydBr",
    "outputId": "9b254fb9-7b5a-4824-d519-88ac9e64a0cc"
   },
   "outputs": [
    {
     "name": "stdout",
     "output_type": "stream",
     "text": [
      "Drive already mounted at /content/drive; to attempt to forcibly remount, call drive.mount(\"/content/drive\", force_remount=True).\n"
     ]
    }
   ],
   "source": [
    "from google.colab import drive\n",
    "drive.mount('/content/drive')"
   ]
  },
  {
   "cell_type": "code",
   "execution_count": 23,
   "metadata": {
    "colab": {
     "base_uri": "https://localhost:8080/",
     "height": 357
    },
    "colab_type": "code",
    "id": "0elhyjSUyf7a",
    "outputId": "81833139-d846-4ac2-e763-ffb7a85dbdb7"
   },
   "outputs": [
    {
     "name": "stdout",
     "output_type": "stream",
     "text": [
      " 10.pdf\t\t\t\t    'GRE BOOKS'\n",
      " 12.pdf\t\t\t\t    'GRE FULL'\n",
      "'Academic Calendar_2016.pdf'\t    'IOSD Marksheet.xlsx'\n",
      "'ADA Assignment.pdf'\t\t    'itihaas qiz final.pptx'\n",
      " app-debug.apk\t\t\t    'm&slaw.pdf'\n",
      "'Bootcamp July 2017'\t\t    'Naive Bayes'\n",
      " buildAndroid.apk\t\t     ntse.rar\n",
      " Calculator.gif\t\t\t    'portal stuff.zip'\n",
      "'Colab Notebooks'\t\t    'pranav proj'\n",
      " CurvedLine-2017.1.2.unitypackage   'Project proposal.gdoc'\n",
      " cv-intern.pdf\t\t\t    'Resume (1).gdoc'\n",
      "'CV_SID LATHER_Final 25112014.rtf'  'Resume (2).gdoc'\n",
      " CV_TnP.pdf\t\t\t    'Resume (3).gdoc'\n",
      " CV_TnP.pdf.gdoc\t\t     Resume.gdoc\n",
      " driving_sim.apk\t\t     spotify-8-4-5-1092.apk\n",
      "'Eco Project 1.gdoc'\t\t    'tanishq gym.mp4'\n",
      " EmojiData\t\t\t    'Untitled document.gdoc'\n",
      " Face_Gesture_Recogizer_Final.h5    'vmc cd.zip'\n",
      " Face_Gesture_Recogizer.h5\t    'Your Resume.pdf'\n",
      "'Fruit Ninja Resources'\n"
     ]
    }
   ],
   "source": [
    "!ls \"/content/drive/My Drive\""
   ]
  },
  {
   "cell_type": "code",
   "execution_count": 24,
   "metadata": {
    "colab": {
     "base_uri": "https://localhost:8080/",
     "height": 34
    },
    "colab_type": "code",
    "id": "1RntdDjAzNwv",
    "outputId": "c1f1964b-2274-4cc1-ed3f-8833c6c55fdf"
   },
   "outputs": [
    {
     "name": "stdout",
     "output_type": "stream",
     "text": [
      "angry  glass  kiss  smile\n"
     ]
    }
   ],
   "source": [
    "!ls \"/content/drive/My Drive/EmojiData\""
   ]
  },
  {
   "cell_type": "code",
   "execution_count": 0,
   "metadata": {
    "colab": {},
    "colab_type": "code",
    "id": "ag_YLpBi2ndb"
   },
   "outputs": [],
   "source": [
    "dataset_path = '/content/drive/My Drive/EmojiData/'"
   ]
  },
  {
   "cell_type": "code",
   "execution_count": 0,
   "metadata": {
    "colab": {},
    "colab_type": "code",
    "id": "P3lwyVUO2s-u"
   },
   "outputs": [],
   "source": [
    "exp_data = []\n",
    "labels = []\n",
    "class_id = 0"
   ]
  },
  {
   "cell_type": "code",
   "execution_count": 0,
   "metadata": {
    "colab": {},
    "colab_type": "code",
    "id": "YK1luysK314k"
   },
   "outputs": [],
   "source": [
    "data_x = []\n",
    "data_y = []"
   ]
  },
  {
   "cell_type": "code",
   "execution_count": 28,
   "metadata": {
    "colab": {
     "base_uri": "https://localhost:8080/",
     "height": 85
    },
    "colab_type": "code",
    "id": "rRRyVi4F33ks",
    "outputId": "ac10fcae-3d7b-4c22-dc4e-0d703ce96b3e"
   },
   "outputs": [
    {
     "name": "stdout",
     "output_type": "stream",
     "text": [
      "smile\n",
      "angry\n",
      "glass\n",
      "kiss\n"
     ]
    }
   ],
   "source": [
    "ctr=0\n",
    "for exp_name in os.listdir(dataset_path):\n",
    "    label = ctr\n",
    "    print(exp_name)\n",
    "    if exp_name[0]!='.':\n",
    "        photos = os.listdir(dataset_path+exp_name)\n",
    "        for pic in photos:\n",
    "#             print(pic)\n",
    "            img = cv2.imread(dataset_path+exp_name+\"/\"+pic)\n",
    "            data_x.append(img)\n",
    "            data_y.append(label)\n",
    "        ctr+=1"
   ]
  },
  {
   "cell_type": "code",
   "execution_count": 29,
   "metadata": {
    "colab": {
     "base_uri": "https://localhost:8080/",
     "height": 51
    },
    "colab_type": "code",
    "id": "CpXG3-kz35gs",
    "outputId": "c63a27e6-784e-4cbc-d8be-71a46d4eec01"
   },
   "outputs": [
    {
     "name": "stdout",
     "output_type": "stream",
     "text": [
      "(3960, 100, 100, 3)\n",
      "(3960,)\n"
     ]
    }
   ],
   "source": [
    "data_x=np.array(data_x)\n",
    "data_y=np.array(data_y)\n",
    "data_x = data_x/255.0\n",
    "print(data_x.shape)\n",
    "print(data_y.shape)"
   ]
  },
  {
   "cell_type": "code",
   "execution_count": 30,
   "metadata": {
    "colab": {
     "base_uri": "https://localhost:8080/",
     "height": 51
    },
    "colab_type": "code",
    "id": "ZwCQA7AH4Idb",
    "outputId": "383972ed-8cf2-4832-f9d6-105eaae7f673"
   },
   "outputs": [
    {
     "name": "stdout",
     "output_type": "stream",
     "text": [
      "[0 0 0 ... 3 3 3]\n",
      "[0 1 2 3]\n"
     ]
    }
   ],
   "source": [
    "print(data_y)\n",
    "print(np.unique(data_y))"
   ]
  },
  {
   "cell_type": "code",
   "execution_count": 31,
   "metadata": {
    "colab": {
     "base_uri": "https://localhost:8080/",
     "height": 34
    },
    "colab_type": "code",
    "id": "ViX0800w4Imk",
    "outputId": "debf8427-0933-40af-88b3-286474dda02c"
   },
   "outputs": [
    {
     "name": "stdout",
     "output_type": "stream",
     "text": [
      "[0 1 2 3]\n"
     ]
    }
   ],
   "source": [
    "data_y = np.array(data_y)\n",
    "print(np.unique(data_y))"
   ]
  },
  {
   "cell_type": "code",
   "execution_count": 32,
   "metadata": {
    "colab": {
     "base_uri": "https://localhost:8080/",
     "height": 34
    },
    "colab_type": "code",
    "id": "Yy6dg5GR4Ipu",
    "outputId": "e8c1cb10-a112-4658-bd7e-ba83fbe40d92"
   },
   "outputs": [
    {
     "name": "stdout",
     "output_type": "stream",
     "text": [
      "[0 1 2 3]\n"
     ]
    }
   ],
   "source": [
    "print(np.unique(data_y))\n",
    "data_y = np_utils.to_categorical(data_y)"
   ]
  },
  {
   "cell_type": "code",
   "execution_count": 33,
   "metadata": {
    "colab": {
     "base_uri": "https://localhost:8080/",
     "height": 136
    },
    "colab_type": "code",
    "id": "MQR9xDoE4IsM",
    "outputId": "bdd66f0d-6491-4140-b4a3-97f4a6ca1097"
   },
   "outputs": [
    {
     "name": "stdout",
     "output_type": "stream",
     "text": [
      "[[1. 0. 0. 0.]\n",
      " [1. 0. 0. 0.]\n",
      " [1. 0. 0. 0.]\n",
      " ...\n",
      " [0. 0. 0. 1.]\n",
      " [0. 0. 0. 1.]\n",
      " [0. 0. 0. 1.]]\n"
     ]
    }
   ],
   "source": [
    "print(data_y)"
   ]
  },
  {
   "cell_type": "code",
   "execution_count": 34,
   "metadata": {
    "colab": {
     "base_uri": "https://localhost:8080/",
     "height": 680
    },
    "colab_type": "code",
    "id": "rftA02-D4P1M",
    "outputId": "2795cf71-ba5f-487e-ce1a-d28df346639b"
   },
   "outputs": [
    {
     "name": "stdout",
     "output_type": "stream",
     "text": [
      "_________________________________________________________________\n",
      "Layer (type)                 Output Shape              Param #   \n",
      "=================================================================\n",
      "conv2d_4 (Conv2D)            (None, 98, 98, 64)        1792      \n",
      "_________________________________________________________________\n",
      "activation_6 (Activation)    (None, 98, 98, 64)        0         \n",
      "_________________________________________________________________\n",
      "max_pooling2d_2 (MaxPooling2 (None, 49, 49, 64)        0         \n",
      "_________________________________________________________________\n",
      "dropout_3 (Dropout)          (None, 49, 49, 64)        0         \n",
      "_________________________________________________________________\n",
      "conv2d_5 (Conv2D)            (None, 47, 47, 128)       73856     \n",
      "_________________________________________________________________\n",
      "activation_7 (Activation)    (None, 47, 47, 128)       0         \n",
      "_________________________________________________________________\n",
      "max_pooling2d_3 (MaxPooling2 (None, 23, 23, 128)       0         \n",
      "_________________________________________________________________\n",
      "conv2d_6 (Conv2D)            (None, 20, 20, 512)       1049088   \n",
      "_________________________________________________________________\n",
      "activation_8 (Activation)    (None, 20, 20, 512)       0         \n",
      "_________________________________________________________________\n",
      "max_pooling2d_4 (MaxPooling2 (None, 10, 10, 512)       0         \n",
      "_________________________________________________________________\n",
      "dropout_4 (Dropout)          (None, 10, 10, 512)       0         \n",
      "_________________________________________________________________\n",
      "flatten_2 (Flatten)          (None, 51200)             0         \n",
      "_________________________________________________________________\n",
      "dense_3 (Dense)              (None, 256)               13107456  \n",
      "_________________________________________________________________\n",
      "activation_9 (Activation)    (None, 256)               0         \n",
      "_________________________________________________________________\n",
      "dense_4 (Dense)              (None, 4)                 1028      \n",
      "_________________________________________________________________\n",
      "activation_10 (Activation)   (None, 4)                 0         \n",
      "=================================================================\n",
      "Total params: 14,233,220\n",
      "Trainable params: 14,233,220\n",
      "Non-trainable params: 0\n",
      "_________________________________________________________________\n"
     ]
    }
   ],
   "source": [
    "model = Sequential()\n",
    "\n",
    "model.add(Convolution2D(64, kernel_size=(3, 3), input_shape=(100, 100, 3)))\n",
    "model.add(Activation('relu'))\n",
    "BatchNormalization(axis=1)\n",
    "model.add(MaxPooling2D(pool_size=(2,2)))\n",
    "model.add( Dropout(0.2) )\n",
    "model.add(Convolution2D(128, kernel_size=(3, 3)))\n",
    "model.add(Activation('relu'))\n",
    "model.add(MaxPooling2D(pool_size=(2,2)))\n",
    "BatchNormalization(axis=1)\n",
    "model.add(Convolution2D(512, kernel_size=(4, 4)))\n",
    "model.add(Activation('relu'))\n",
    "model.add(MaxPooling2D(pool_size=(2,2)))\n",
    "BatchNormalization(axis=1)\n",
    "model.add( Dropout(0.2) )\n",
    "model.add(Flatten())\n",
    "model.add(Dense(256))\n",
    "model.add(Activation('relu'))\n",
    "model.add(Dense(4))\n",
    "model.add(Activation('softmax'))\n",
    "model.summary()"
   ]
  },
  {
   "cell_type": "code",
   "execution_count": 0,
   "metadata": {
    "colab": {},
    "colab_type": "code",
    "id": "UrIcIRfW4P3V"
   },
   "outputs": [],
   "source": [
    "model.compile(loss='categorical_crossentropy', optimizer='adam', metrics=['accuracy'])"
   ]
  },
  {
   "cell_type": "code",
   "execution_count": 36,
   "metadata": {
    "colab": {
     "base_uri": "https://localhost:8080/",
     "height": 204
    },
    "colab_type": "code",
    "id": "xVKbzPjb4P5b",
    "outputId": "4fbe8769-da5d-4f5a-b33e-1f60332efeb6"
   },
   "outputs": [
    {
     "name": "stdout",
     "output_type": "stream",
     "text": [
      "Epoch 1/5\n",
      "3960/3960 [==============================] - 11s 3ms/step - loss: 0.4322 - acc: 0.8447\n",
      "Epoch 2/5\n",
      "3960/3960 [==============================] - 10s 3ms/step - loss: 0.0190 - acc: 0.9949\n",
      "Epoch 3/5\n",
      "3960/3960 [==============================] - 10s 3ms/step - loss: 0.0106 - acc: 0.9975\n",
      "Epoch 4/5\n",
      "3960/3960 [==============================] - 10s 3ms/step - loss: 0.0058 - acc: 0.9975\n",
      "Epoch 5/5\n",
      "3960/3960 [==============================] - 10s 3ms/step - loss: 0.0161 - acc: 0.9942\n"
     ]
    },
    {
     "data": {
      "text/plain": [
       "<keras.callbacks.History at 0x7fd5c28e5198>"
      ]
     },
     "execution_count": 36,
     "metadata": {
      "tags": []
     },
     "output_type": "execute_result"
    }
   ],
   "source": [
    "model.fit(data_x, data_y, epochs=5, batch_size=50)"
   ]
  },
  {
   "cell_type": "code",
   "execution_count": 0,
   "metadata": {
    "colab": {},
    "colab_type": "code",
    "id": "3QX7aD5w4aPt"
   },
   "outputs": [],
   "source": [
    "model.save('/content/drive/My Drive/Face_Gesture_Recogizer_Final_1.h5')"
   ]
  },
  {
   "cell_type": "code",
   "execution_count": 0,
   "metadata": {
    "colab": {},
    "colab_type": "code",
    "id": "W6cDGnEtHAWn"
   },
   "outputs": [],
   "source": []
  }
 ],
 "metadata": {
  "accelerator": "GPU",
  "colab": {
   "collapsed_sections": [],
   "name": "EmojiTrain.ipynb",
   "provenance": [],
   "version": "0.3.2"
  },
  "kernelspec": {
   "display_name": "Python 3",
   "language": "python",
   "name": "python3"
  },
  "language_info": {
   "codemirror_mode": {
    "name": "ipython",
    "version": 3
   },
   "file_extension": ".py",
   "mimetype": "text/x-python",
   "name": "python",
   "nbconvert_exporter": "python",
   "pygments_lexer": "ipython3",
   "version": "3.6.5"
  }
 },
 "nbformat": 4,
 "nbformat_minor": 1
}
